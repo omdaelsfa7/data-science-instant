{
  "cells": [
    {
      "cell_type": "markdown",
      "metadata": {
        "id": "OWpf4Rfiv8O8"
      },
      "source": [
        "# What is MLOps? and mention the cycle of MLOps."
      ]
    },
    {
      "cell_type": "code",
      "execution_count": null,
      "metadata": {
        "id": "Zjvwly4IvfzM"
      },
      "outputs": [],
      "source": [
        "# mlops is process used at models to avoid data drift and model drift \n",
        "# it uses automation to save time and make better models \n",
        "\n",
        "# 1-train 2-test 3-serve 4-monitor "
      ]
    },
    {
      "cell_type": "markdown",
      "metadata": {
        "id": "1onXvVjbwJRp"
      },
      "source": [
        "# What is the importance of PCA?"
      ]
    },
    {
      "cell_type": "code",
      "execution_count": null,
      "metadata": {
        "id": "OtGw76_xwnvA"
      },
      "outputs": [],
      "source": [
        "# data scaling \n",
        "# feature extracion \n",
        "# data filtering \n"
      ]
    },
    {
      "cell_type": "markdown",
      "metadata": {
        "id": "e5Rl-LtIwsbH"
      },
      "source": [
        "# How can you detect the outliers? please Explain in details"
      ]
    },
    {
      "cell_type": "code",
      "execution_count": null,
      "metadata": {
        "id": "FAxFHm1Vwu7_"
      },
      "outputs": [],
      "source": [
        "#  if the outermost values is not in range with the rest of the data "
      ]
    },
    {
      "cell_type": "markdown",
      "metadata": {
        "id": "KHBRyHYuwwjW"
      },
      "source": [
        "# What is missing values? and how can we handle it? Explain in details"
      ]
    },
    {
      "cell_type": "code",
      "execution_count": null,
      "metadata": {
        "id": "gA7XBxsSw-vW"
      },
      "outputs": [],
      "source": [
        "# when the user did not import some values which could be (na,-9999,0)\n",
        "# we either drop the row (not preferd)\n",
        "# forwad fill \n",
        "#backward fill \n",
        "# use the mean or the median"
      ]
    },
    {
      "cell_type": "markdown",
      "metadata": {
        "id": "XOhcsGJnxJeo"
      },
      "source": [
        "# Define dockerization and Containerization concepts"
      ]
    },
    {
      "cell_type": "code",
      "execution_count": null,
      "metadata": {
        "id": "mz0ofICjxuMn"
      },
      "outputs": [],
      "source": [
        "# docker is a software platform which we use to test and run our models to see if it would run on other softwares with the same version of our model \n",
        "# the containerization we put our librarys at a container to not download it on the other device to see if it would run without anyproblems"
      ]
    },
    {
      "cell_type": "markdown",
      "metadata": {
        "id": "h_Jd9Q_5yIB9"
      },
      "source": [
        "# How can we convert categorical data to numerical data?"
      ]
    },
    {
      "cell_type": "code",
      "execution_count": null,
      "metadata": {
        "id": "0GWpu7PayP4A"
      },
      "outputs": [],
      "source": [
        "# labelencoder we change it with numbers"
      ]
    },
    {
      "cell_type": "markdown",
      "metadata": {
        "id": "q6lgqM50zZVz"
      },
      "source": [
        "# What is the main concepts of OOP?"
      ]
    },
    {
      "cell_type": "code",
      "execution_count": null,
      "metadata": {
        "id": "OY7x4T0r0Rd_"
      },
      "outputs": [],
      "source": [
        "#object \n",
        "#class \n",
        "#abstract\n",
        "#polyphorism \n",
        "#encapsulation\n",
        "#inheritance \n",
        "#method overriding and overloading "
      ]
    },
    {
      "cell_type": "markdown",
      "metadata": {
        "id": "SzR15-sH0UZ0"
      },
      "source": [
        "# What different types of Inheritance are there?"
      ]
    },
    {
      "cell_type": "code",
      "execution_count": null,
      "metadata": {
        "id": "94m07Oin1k6e"
      },
      "outputs": [],
      "source": [
        "#single \n",
        "#heriorichal"
      ]
    },
    {
      "cell_type": "markdown",
      "metadata": {
        "id": "e4jgVX9016DH"
      },
      "source": [
        "#  What are access specifiers? What is their significance in OOPs?"
      ]
    },
    {
      "cell_type": "code",
      "execution_count": null,
      "metadata": {
        "id": "smQjTbmi16qi"
      },
      "outputs": [],
      "source": [
        "#(%d,%s,%f) used to write our variables more efficently \n",
        "#makes printing easier "
      ]
    },
    {
      "cell_type": "markdown",
      "metadata": {
        "id": "kwql6ow_2FGW"
      },
      "source": [
        "# What is the difference between overloading and overriding?"
      ]
    },
    {
      "cell_type": "code",
      "execution_count": null,
      "metadata": {
        "id": "gmITsLqu2FxP"
      },
      "outputs": [],
      "source": [
        "#overloading is a method if we name the function with the same name with diff arguments or with same arguments(neglects the first function) or in diffrent class which uses the one in the class u calles first \n",
        "#overriding is a method used to change normall things like +,=,-,print statment to sum 2 objects or subtract or print it as u want "
      ]
    },
    {
      "cell_type": "markdown",
      "metadata": {
        "id": "5lei3NR02mBy"
      },
      "source": [
        "#  How is an abstract class different from an interface?"
      ]
    },
    {
      "cell_type": "code",
      "execution_count": null,
      "metadata": {
        "id": "PnGTvPOs2m1Y"
      },
      "outputs": [],
      "source": [
        "#######################################"
      ]
    },
    {
      "cell_type": "markdown",
      "metadata": {
        "id": "s8C-ASXf2uEk"
      },
      "source": [
        "# Write a program which can compute the factorial of a given numbers. The results should be printed in a comma-separated sequence on a single line.\n",
        "    5 8\n",
        "    Then, the output should be:\n",
        "    120,40320"
      ]
    },
    {
      "cell_type": "code",
      "execution_count": null,
      "metadata": {
        "id": "H1i6ztm65axM"
      },
      "outputs": [
        {
          "ename": "",
          "evalue": "",
          "output_type": "error",
          "traceback": [
            "\u001b[1;31mRunning cells with 'Python 3.12.5' requires the ipykernel package.\n",
            "\u001b[1;31mRun the following command to install 'ipykernel' into the Python environment. \n",
            "\u001b[1;31mCommand: 'c:/Users/omare/AppData/Local/Microsoft/WindowsApps/python3.12.exe -m pip install ipykernel -U --user --force-reinstall'"
          ]
        }
      ],
      "source": [
        "import math\n",
        "def fact(n1 ,n2 ):\n",
        "    n1 = math.factorial(n1) \n",
        "    n2 = math.factorial(n2)\n",
        "    print(n1,n2,sep=\",\")\n",
        "fact(5,8)"
      ]
    },
    {
      "cell_type": "markdown",
      "metadata": {
        "id": "iXZ8VnQq9unJ"
      },
      "source": [
        "# With a given integral number n, write a program to generate a dictionary that contains (i, i*i) such that is an integral number between 1 and n (both included). and then the program should print the dictionary.\n",
        "    Suppose the following input is supplied to the program:\n",
        "    8\n",
        "    Then, the output should be:\n",
        "    {1: 1, 2: 4, 3: 9, 4: 16, 5: 25, 6: 36, 7: 49, 8: 64}"
      ]
    },
    {
      "cell_type": "code",
      "execution_count": null,
      "metadata": {
        "id": "FJC2ejrf9vGH"
      },
      "outputs": [
        {
          "ename": "",
          "evalue": "",
          "output_type": "error",
          "traceback": [
            "\u001b[1;31mRunning cells with 'Python 3.12.5' requires the ipykernel package.\n",
            "\u001b[1;31mRun the following command to install 'ipykernel' into the Python environment. \n",
            "\u001b[1;31mCommand: 'c:/Users/omare/AppData/Local/Microsoft/WindowsApps/python3.12.exe -m pip install ipykernel -U --user --force-reinstall'"
          ]
        }
      ],
      "source": [
        "def d(n):\n",
        "    d={}\n",
        "    for i in range (1,n+1) :\n",
        "        d[i] = i*i\n",
        "    print(d)\n",
        "d(8)"
      ]
    },
    {
      "cell_type": "markdown",
      "metadata": {
        "id": "bmUkTQJR98l1"
      },
      "source": [
        "# Write a program which takes 2 digits, X,Y as input and generates a 2-dimensional array. The element value in the i-th row and j-th column of the array should be i*j.\n",
        "    Example\n",
        "        Suppose the following inputs are given to the program:\n",
        "        3,5\n",
        "        Then, the output of the program should be:\n",
        "        [[0, 0, 0, 0, 0], [0, 1, 2, 3, 4], [0, 2, 4, 6, 8]]"
      ]
    },
    {
      "cell_type": "code",
      "execution_count": null,
      "metadata": {
        "id": "6oYmYcpG988_"
      },
      "outputs": [],
      "source": [
        "import numpy as np \n",
        "x = 3 \n",
        "y = 5\n",
        "mat = np.zeros((y,x))\n",
        "\n"
      ]
    },
    {
      "cell_type": "markdown",
      "metadata": {
        "id": "OM2An_9--YJX"
      },
      "source": [
        "# Write a program that accepts a sentence and calculate the number of letters and digits. Suppose the following input is supplied to the program:\n",
        "\n",
        "    \"hello world 123\"\n",
        "    Then, the output should be:\n",
        "        LETTERS 10\n",
        "        DIGITS 3"
      ]
    },
    {
      "cell_type": "code",
      "execution_count": null,
      "metadata": {
        "id": "izGUfF__-Ytt"
      },
      "outputs": [],
      "source": [
        "def cou(str1) :\n",
        "    numcou= 0 \n",
        "    charcou = 0\n",
        "    l = []\n",
        "    for i in str1 :\n",
        "        l.append(i)\n",
        "    print(l)\n",
        "    for i in range(len(l)) :\n",
        "        try :\n",
        "            l[i] = int(l[i])\n",
        "        except :\n",
        "            pass\n",
        "    for i in l :\n",
        "        if i ==\" \":\n",
        "            charcou -= 1\n",
        "        if isinstance(i,int):\n",
        "            numcou += 1 \n",
        "        if isinstance(i,str):\n",
        "            charcou += 1\n",
        "    print(numcou , charcou)\n",
        "str1 = input(\"enter the string \")\n",
        "print(cou(str1))"
      ]
    },
    {
      "cell_type": "markdown",
      "metadata": {
        "id": "ww-mZJwS-xoj"
      },
      "source": [
        "# Write a program that accepts a sequence of whitespace separated words as input and prints the words after removing all duplicate words and sorting them alphanumerically. Suppose the following input is supplied to the program:\n",
        "    hello world and practice makes perfect and hello world again\n",
        "    Then, the output should be:\n",
        "    again and hello makes perfect practice world"
      ]
    },
    {
      "cell_type": "code",
      "execution_count": null,
      "metadata": {
        "id": "48VL9mkN-yKJ"
      },
      "outputs": [],
      "source": [
        "def x (str1):\n",
        "    str1 = str1.split(\" \")\n",
        "    str1 = set(str1)\n",
        "    str1 = list(str1)\n",
        "    str1.sort()\n",
        "    str1 = \" \".join(str1)\n",
        "    return (str1)\n",
        "print(x(\"hello world and practice makes perfect and hello world again\"))"
      ]
    },
    {
      "cell_type": "markdown",
      "metadata": {
        "id": "qQjF7-QA_JDm"
      },
      "source": [
        "#  create a NumPy array containing values from 0 to 9?"
      ]
    },
    {
      "cell_type": "code",
      "execution_count": null,
      "metadata": {
        "id": "5GVrkZPj_Jli"
      },
      "outputs": [],
      "source": [
        "import numpy as np \n",
        "arr = np.arange(1,10)\n",
        "print(arr)"
      ]
    },
    {
      "cell_type": "markdown",
      "metadata": {
        "id": "b1prJ3G9_U5F"
      },
      "source": [
        "# concatenate two NumPy arrays along the second axis?"
      ]
    },
    {
      "cell_type": "code",
      "execution_count": null,
      "metadata": {
        "id": "c10Iplj7_VXo"
      },
      "outputs": [
        {
          "ename": "",
          "evalue": "",
          "output_type": "error",
          "traceback": [
            "\u001b[1;31mRunning cells with 'Python 3.12.5' requires the ipykernel package.\n",
            "\u001b[1;31mRun the following command to install 'ipykernel' into the Python environment. \n",
            "\u001b[1;31mCommand: 'c:/Users/omare/AppData/Local/Microsoft/WindowsApps/python3.12.exe -m pip install ipykernel -U --user --force-reinstall'"
          ]
        }
      ],
      "source": [
        "arr1 = np.random.rand(5)\n",
        "arr2 = np.random.rand(5)\n",
        "print(np.hstack((arr1,arr2)))"
      ]
    },
    {
      "cell_type": "markdown",
      "metadata": {
        "id": "yWuZ02rY_jBG"
      },
      "source": [
        "# How do you create a 3x3 matrix filled with random values between 0 and 1?"
      ]
    },
    {
      "cell_type": "code",
      "execution_count": null,
      "metadata": {
        "id": "3KDxReHp_jiy"
      },
      "outputs": [],
      "source": [
        "mat = np.random.rand((3,3))\n",
        "print(mat)"
      ]
    },
    {
      "cell_type": "markdown",
      "metadata": {
        "id": "ETXXCICu_127"
      },
      "source": [
        "# How do you compute the dot product of two 1D NumPy arrays?"
      ]
    },
    {
      "cell_type": "code",
      "execution_count": null,
      "metadata": {
        "id": "sfv3o3gP_2Sj"
      },
      "outputs": [],
      "source": [
        "arr1 = np.random.rand(5)\n",
        "arr2 = np.random.rand(5)\n",
        "print(arr1 @ arr2)"
      ]
    },
    {
      "cell_type": "markdown",
      "metadata": {
        "id": "wJfD4IC-ABvE"
      },
      "source": [
        "# How do you generate a 5x5 matrix with a diagonal of ones and zeros elsewhere?"
      ]
    },
    {
      "cell_type": "code",
      "execution_count": null,
      "metadata": {
        "id": "KD97FCoQACPD"
      },
      "outputs": [],
      "source": [
        "mat = np.eye(5)\n",
        "print(mat)"
      ]
    },
    {
      "cell_type": "markdown",
      "metadata": {
        "id": "Ff-gBStBCw41"
      },
      "source": [
        "# Please download the data [link text](https://www.kaggle.com/datasets/iabhishekofficial/mobile-price-classification)"
      ]
    },
    {
      "cell_type": "markdown",
      "metadata": {
        "id": "SS5CWMKzC6k7"
      },
      "source": [
        "# Read the csv file and calculate the statistical info"
      ]
    },
    {
      "cell_type": "code",
      "execution_count": null,
      "metadata": {
        "id": "3VXNKFagC0Ee"
      },
      "outputs": [],
      "source": [
        "import pandas as pd\n",
        "df = pd.read_csv(\"C:\\\\Users\\\\omare\\\\OneDrive\\\\Desktop\\\\gui\\\\train.csv\",sep= \",\")\n",
        "print(df.info())"
      ]
    },
    {
      "cell_type": "markdown",
      "metadata": {
        "id": "4E8sWdJBDyCz"
      },
      "source": [
        "# calculate the frequency of supported and not supported in column 'three_g'\n",
        "   *Note: 0 -> Not Supported\n",
        "         1 -> Supported*"
      ]
    },
    {
      "cell_type": "code",
      "execution_count": null,
      "metadata": {
        "id": "b3JjDiASEPzF"
      },
      "outputs": [],
      "source": [
        "df['three_g'].freq()"
      ]
    },
    {
      "cell_type": "markdown",
      "metadata": {
        "id": "9C-geAmDEwui"
      },
      "source": [
        "# Find the correlation between columns and explain witch feature have positive effect and witch have negative effect"
      ]
    },
    {
      "cell_type": "code",
      "execution_count": null,
      "metadata": {
        "id": "O-yHcSflEwXB"
      },
      "outputs": [],
      "source": [
        "print(df.corr())"
      ]
    },
    {
      "cell_type": "markdown",
      "metadata": {
        "id": "KtOt_3k9MxJC"
      },
      "source": [
        "  # Filter out categorical features\n",
        "  # Calculate number of unique values and unique values for each feature\n",
        "  # Create new dataframe with the results"
      ]
    },
    {
      "cell_type": "code",
      "execution_count": null,
      "metadata": {
        "id": "LdecoewbOY6L"
      },
      "outputs": [],
      "source": [
        "newdf = df.nunique()"
      ]
    },
    {
      "cell_type": "markdown",
      "metadata": {
        "id": "PMkJoIHCOaND"
      },
      "source": [
        "# Save your data in a new csv file"
      ]
    },
    {
      "cell_type": "code",
      "execution_count": null,
      "metadata": {
        "id": "oHaiRoGgOgli"
      },
      "outputs": [],
      "source": [
        "pd.to_csv(newdf)"
      ]
    }
  ],
  "metadata": {
    "colab": {
      "provenance": []
    },
    "kernelspec": {
      "display_name": "Python 3",
      "name": "python3"
    },
    "language_info": {
      "name": "python",
      "version": "3.12.5"
    }
  },
  "nbformat": 4,
  "nbformat_minor": 0
}
